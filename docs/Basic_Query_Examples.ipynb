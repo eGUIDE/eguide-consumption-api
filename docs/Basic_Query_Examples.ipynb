{
 "cells": [
  {
   "cell_type": "raw",
   "metadata": {},
   "source": [
    "date: June 2020\n",
    "author: Aman Ahuja and Joel Mugyenyi\n",
    "language: python3"
   ]
  },
  {
   "cell_type": "markdown",
   "metadata": {},
   "source": [
    "# Basic Query Examples\n",
    "\n",
    "This notebook demonstrates some basic queries in the energy consumption model. \n",
    "\n",
    " - Lat / Long or point query\n",
    " - Polygon query - full granular data\n",
    " - Polygon query - summary data\n",
    "\n",
    "\n",
    "We also interpret the results of these queries and examine them in several ways for illustrative purposes. \n"
   ]
  },
  {
   "cell_type": "markdown",
   "metadata": {},
   "source": [
    "### Using Curl\n"
   ]
  },
  {
   "cell_type": "code",
   "execution_count": 1,
   "metadata": {},
   "outputs": [
    {
     "name": "stdout",
     "output_type": "stream",
     "text": [
      "{\"data\": {\"classA_count\": 5.0, \"classB_count\": 2.0, \"classA_mean\": 0.6952012181282043, \"classB_mean\": 0.626374363899231, \"classA_std\": 0.04811226576566696, \"classB_std\": 0.08047643303871155}, \"metadata\": \"TBD\"}"
     ]
    }
   ],
   "source": [
    "!curl -X GET \"https://api.eguide.io/v0/prediction?aoi=POINT%2835.8843%204.0665%29&resolution=250&detail=summary\" -H \"accept: */*\""
   ]
  },
  {
   "cell_type": "markdown",
   "metadata": {},
   "source": [
    "## Using Python (requests)"
   ]
  },
  {
   "cell_type": "code",
   "execution_count": 2,
   "metadata": {},
   "outputs": [],
   "source": [
    "# We will use the requests python library\n",
    "import requests"
   ]
  },
  {
   "cell_type": "code",
   "execution_count": 3,
   "metadata": {},
   "outputs": [],
   "source": [
    "#api_base_url = 'https://api.eguide.io/v0'\n",
    "\n",
    "# temporarily replace with local \n",
    "api_base_url = 'http://localhost:8000'"
   ]
  },
  {
   "cell_type": "code",
   "execution_count": 4,
   "metadata": {},
   "outputs": [
    {
     "name": "stdout",
     "output_type": "stream",
     "text": [
      "<Response [200]>\n",
      "b'{\"hello\":\"world\"}'\n"
     ]
    }
   ],
   "source": [
    "# Hello World query and response\n",
    "response = requests.get(api_base_url)\n",
    "print(response)\n",
    "print (response.content)"
   ]
  },
  {
   "cell_type": "markdown",
   "metadata": {},
   "source": [
    "We can use the API documentation located at \n",
    "(http://eguide.io/#api)[http://eguide.io/#api] to select the endpoint and the parameters in which we are interested.  "
   ]
  },
  {
   "cell_type": "raw",
   "metadata": {},
   "source": [
    "Example using the prediction endpoint"
   ]
  },
  {
   "cell_type": "code",
   "execution_count": 5,
   "metadata": {},
   "outputs": [
    {
     "name": "stdout",
     "output_type": "stream",
     "text": [
      "<Response [200]>\n",
      "{'data': {'classA_count': 5.0, 'classB_count': 2.0, 'classA_mean': 0.6952012181282043, 'classB_mean': 0.626374363899231, 'classA_std': 0.04811226576566696, 'classB_std': 0.08047643303871155}, 'metadata': 'TBD'}\n"
     ]
    }
   ],
   "source": [
    "# define the endpoint and parameters\n",
    "endpoint = '/prediction'\n",
    "aoi = \"POINT(35.8843 4.0665)\"\n",
    "\n",
    "# construct params dict\n",
    "params = {\n",
    "    \"aoi\": aoi, \n",
    "    \"detail\": \"summary\", \n",
    "    \"resolution\": 250,\n",
    "    \"format\": \"json\"\n",
    "}\n",
    "\n",
    "# make the query\n",
    "response = requests.get(\n",
    "    url = api_base_url+endpoint,\n",
    "    params=params,\n",
    "    headers={\n",
    "       \"X-API-Key\": \"xxxxxxx\"\n",
    "     }\n",
    "    )\n",
    "\n",
    "print (response)\n",
    "print (response.json())"
   ]
  },
  {
   "cell_type": "code",
   "execution_count": 6,
   "metadata": {},
   "outputs": [
    {
     "data": {
      "text/plain": [
       "{'data': {'classA_count': 5.0,\n",
       "  'classB_count': 2.0,\n",
       "  'classA_mean': 0.6952012181282043,\n",
       "  'classB_mean': 0.626374363899231,\n",
       "  'classA_std': 0.04811226576566696,\n",
       "  'classB_std': 0.08047643303871155},\n",
       " 'metadata': 'TBD'}"
      ]
     },
     "execution_count": 6,
     "metadata": {},
     "output_type": "execute_result"
    }
   ],
   "source": [
    "response.json()"
   ]
  },
  {
   "cell_type": "code",
   "execution_count": 7,
   "metadata": {},
   "outputs": [
    {
     "name": "stdout",
     "output_type": "stream",
     "text": [
      "classA_count        : 5.0\n",
      "classB_count        : 2.0\n",
      "classA_mean         : 0.6952012181282043\n",
      "classB_mean         : 0.626374363899231\n",
      "classA_std          : 0.04811226576566696\n",
      "classB_std          : 0.08047643303871155\n"
     ]
    }
   ],
   "source": [
    "# let's examine the data. \n",
    "data = response.json()['data']\n",
    "\n",
    "for k,v in data.items(): \n",
    "    print (f\"{k:<20}: {v}\")"
   ]
  },
  {
   "cell_type": "code",
   "execution_count": 8,
   "metadata": {},
   "outputs": [
    {
     "name": "stdout",
     "output_type": "stream",
     "text": [
      "TBD\n"
     ]
    }
   ],
   "source": [
    "metadata = response.json()['metadata']\n",
    "\n",
    "print (metadata)\n",
    "# for k,v in metadata.items(): \n",
    "#     print (f\"{k:<20}: {v}\")"
   ]
  },
  {
   "cell_type": "markdown",
   "metadata": {},
   "source": [
    "### information"
   ]
  },
  {
   "cell_type": "code",
   "execution_count": 9,
   "metadata": {},
   "outputs": [
    {
     "name": "stdout",
     "output_type": "stream",
     "text": [
      "Python 3.6.10 :: Anaconda, Inc.\r\n"
     ]
    }
   ],
   "source": [
    "!python --version"
   ]
  },
  {
   "cell_type": "code",
   "execution_count": 10,
   "metadata": {},
   "outputs": [
    {
     "data": {
      "text/plain": [
       "'2.23.0'"
      ]
     },
     "execution_count": 10,
     "metadata": {},
     "output_type": "execute_result"
    }
   ],
   "source": [
    "requests.__version__"
   ]
  },
  {
   "cell_type": "code",
   "execution_count": null,
   "metadata": {},
   "outputs": [],
   "source": []
  }
 ],
 "metadata": {
  "kernelspec": {
   "display_name": "Python 3",
   "language": "python",
   "name": "python3"
  },
  "language_info": {
   "codemirror_mode": {
    "name": "ipython",
    "version": 3
   },
   "file_extension": ".py",
   "mimetype": "text/x-python",
   "name": "python",
   "nbconvert_exporter": "python",
   "pygments_lexer": "ipython3",
   "version": "3.6.10"
  }
 },
 "nbformat": 4,
 "nbformat_minor": 2
}
