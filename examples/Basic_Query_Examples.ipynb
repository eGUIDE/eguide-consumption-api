{
 "cells": [
  {
   "cell_type": "raw",
   "metadata": {},
   "source": [
    "date: June 2020\n",
    "author: Aman Ahuja and Joel Mugyenyi\n",
    "language: python3"
   ]
  },
  {
   "cell_type": "markdown",
   "metadata": {},
   "source": [
    "# Basic Query Examples \n",
    "\n",
    "This notebook demonstrates some basic queries in the energy consumption model. \n",
    "\n",
    " - Lat / Long or point query\n",
    " - Polygon query - full granular data\n",
    " - Polygon query - summary data\n",
    "\n",
    "\n",
    "We also interpret the results of these queries and examine them in several ways for illustrative purposes. \n"
   ]
  },
  {
   "cell_type": "markdown",
   "metadata": {},
   "source": [
    "### Documentation\n",
    "\n",
    "API developer documentation is located at \n",
    "(Stoplight.io)[https://stoplight.io/p/docs/gh/eguide/eguide-consumption-api] \n",
    "\n",
    " * Use the documentation to select the endpoint and the parameters. \n",
    " * Run test queries immediately from your browser. \n",
    " * automatically generate starter code snippets, in cURL, python, and more. \n",
    " \n"
   ]
  },
  {
   "cell_type": "markdown",
   "metadata": {},
   "source": [
    "### Authentication\n",
    "\n",
    "We'll save our API key as an environment variable to use throughout these code examples"
   ]
  },
  {
   "cell_type": "code",
   "execution_count": null,
   "metadata": {},
   "outputs": [],
   "source": [
    "import os"
   ]
  },
  {
   "cell_type": "code",
   "execution_count": null,
   "metadata": {},
   "outputs": [],
   "source": [
    "# You can set it here if it isn't already set, like this: \n",
    "# os.environ['eguideapikey'] = 'my-beta-user-eguide-apikey'"
   ]
  },
  {
   "cell_type": "code",
   "execution_count": null,
   "metadata": {},
   "outputs": [],
   "source": [
    "# check that the environ variable is set\n",
    "assert 'eguideapikey' in os.environ\n",
    "\n",
    "# access it in python \n",
    "eguideapikey = os.environ['eguideapikey']\n",
    "\n",
    "# show us what it is. \n",
    "# print(eguideapikey)"
   ]
  },
  {
   "cell_type": "markdown",
   "metadata": {},
   "source": [
    "### Using Curl\n"
   ]
  },
  {
   "cell_type": "code",
   "execution_count": null,
   "metadata": {},
   "outputs": [],
   "source": [
    "!curl --request GET \\\n",
    "  --url \"https://api.eguide.io/v0/\""
   ]
  },
  {
   "cell_type": "code",
   "execution_count": null,
   "metadata": {},
   "outputs": [],
   "source": [
    "!curl --request GET \\\n",
    "  --url 'https://api.eguide.io/v0/prediction?aoi=POINT(35.8843%204.0665)' \\\n",
    "  --header \"x-api-key: $eguideapikey\""
   ]
  },
  {
   "cell_type": "markdown",
   "metadata": {},
   "source": [
    "## Using Python (requests)"
   ]
  },
  {
   "cell_type": "code",
   "execution_count": null,
   "metadata": {},
   "outputs": [],
   "source": [
    "# We will use the requests python library\n",
    "import requests"
   ]
  },
  {
   "cell_type": "code",
   "execution_count": null,
   "metadata": {},
   "outputs": [],
   "source": [
    "# Hello World query and response\n",
    "\n",
    "url = 'https://api.eguide.io/v0'\n",
    "\n",
    "response = requests.get(url)\n",
    "\n",
    "print(response.text)"
   ]
  },
  {
   "cell_type": "code",
   "execution_count": null,
   "metadata": {},
   "outputs": [],
   "source": [
    "# POINT prediction\n",
    "\n",
    "url = \"https://api.eguide.io/v0/prediction\"\n",
    "\n",
    "querystring = {\"aoi\":\"POINT(35.8843 4.0665)\"}\n",
    "\n",
    "headers = {'x-api-key': eguideapikey}\n",
    "\n",
    "response = requests.request(\"GET\", url, headers=headers, params=querystring)\n",
    "\n",
    "print(response.text)"
   ]
  },
  {
   "cell_type": "code",
   "execution_count": null,
   "metadata": {},
   "outputs": [],
   "source": [
    "# POLYGON prediction\n",
    "\n",
    "url = \"https://api.eguide.io/v0/prediction\"\n",
    "\n",
    "POLYGON_AOI = 'POLYGON((35.8851 4.0660, 35.8858 4.0644, 35.8831 4.0594, 35.8824 4.0658, 35.8851 4.0660 ))'\n",
    "\n",
    "querystring = {\n",
    "    \"aoi\": POLYGON_AOI,\n",
    "    \"summary_only\": \"True\"\n",
    "}\n",
    "\n",
    "headers = {'x-api-key': eguideapikey}\n",
    "\n",
    "response = requests.request(\"GET\", url, headers=headers, params=querystring)\n",
    "\n",
    "print(response.text)\n",
    "\n",
    "    "
   ]
  },
  {
   "cell_type": "code",
   "execution_count": null,
   "metadata": {},
   "outputs": [],
   "source": [
    "# let's examine the data_array\n",
    "data_array = response.json()['data']['data_array']\n",
    "\n",
    "for cell in data_array:\n",
    "    print(f\"\\nCell id: {cell['cell_id']}\")\n",
    "    \n",
    "    for k, v in cell['data'].items():\n",
    "        print (f\"{k:<20}: {v}\")"
   ]
  },
  {
   "cell_type": "code",
   "execution_count": null,
   "metadata": {},
   "outputs": [],
   "source": [
    "metadata = response.json()['model_metadata']\n",
    "\n",
    "for k,v in metadata.items(): \n",
    "    print (f\"{k:<20}: {v}\")"
   ]
  },
  {
   "cell_type": "markdown",
   "metadata": {},
   "source": [
    "### information"
   ]
  },
  {
   "cell_type": "code",
   "execution_count": null,
   "metadata": {},
   "outputs": [],
   "source": [
    "!python --version"
   ]
  },
  {
   "cell_type": "code",
   "execution_count": null,
   "metadata": {},
   "outputs": [],
   "source": [
    "requests.__version__"
   ]
  }
 ],
 "metadata": {
  "kernelspec": {
   "display_name": "Python 3",
   "language": "python",
   "name": "python3"
  },
  "language_info": {
   "codemirror_mode": {
    "name": "ipython",
    "version": 3
   },
   "file_extension": ".py",
   "mimetype": "text/x-python",
   "name": "python",
   "nbconvert_exporter": "python",
   "pygments_lexer": "ipython3",
   "version": "3.6.10"
  }
 },
 "nbformat": 4,
 "nbformat_minor": 2
}
