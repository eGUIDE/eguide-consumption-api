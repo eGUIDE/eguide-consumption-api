{
 "cells": [
  {
   "cell_type": "raw",
   "metadata": {},
   "source": [
    "date: July 2020\n",
    "author: Aman Ahuja and Joel Mugyenyi\n",
    "language: python3"
   ]
  },
  {
   "cell_type": "markdown",
   "metadata": {},
   "source": [
    "# Basic Query Examples \n",
    "\n",
    "This notebook demonstrates some basic queries in the energy consumption model. \n",
    "\n",
    " - Lat / Long or point query\n",
    " - Polygon query - full granular data\n",
    " - Polygon query - summary data\n",
    "\n",
    "\n",
    "We also interpret the results of these queries and examine them in several ways for illustrative purposes. \n"
   ]
  },
  {
   "cell_type": "markdown",
   "metadata": {},
   "source": [
    "### Documentation\n",
    "\n",
    "API developer documentation is located at \n",
    "(Stoplight.io) https://eguide.stoplight.io/docs/eguide-consumption-api/docs/_welcome.md \n",
    "\n",
    " * Use the documentation to select the endpoint and the parameters. \n",
    " * Run test queries immediately from your browser. \n",
    " * automatically generate starter code snippets, in cURL, python, and more. \n",
    " \n"
   ]
  },
  {
   "cell_type": "markdown",
   "metadata": {},
   "source": [
    "### Authentication\n",
    "\n",
    "We'll save our API key as an environment variable to use throughout these code examples"
   ]
  },
  {
   "cell_type": "code",
   "execution_count": 2,
   "metadata": {},
   "outputs": [],
   "source": [
    "import os"
   ]
  },
  {
   "cell_type": "code",
   "execution_count": 3,
   "metadata": {},
   "outputs": [],
   "source": [
    "# You can set it here if it isn't already set, like this: \n",
    "os.environ['eguideapikey'] = 'APIKEY_GOES_HERE'"
   ]
  },
  {
   "cell_type": "code",
   "execution_count": 4,
   "metadata": {},
   "outputs": [
    {
     "name": "stdout",
     "output_type": "stream",
     "text": [
      "APIKEY_GOES_HERE\n"
     ]
    }
   ],
   "source": [
    "# check that the environ variable is set\n",
    "assert 'eguideapikey' in os.environ\n",
    "\n",
    "# access it in python \n",
    "eguideapikey = os.environ['eguideapikey']\n",
    "\n",
    "# show us what it is. \n",
    "print(eguideapikey)"
   ]
  },
  {
   "cell_type": "markdown",
   "metadata": {},
   "source": [
    "### Using Curl\n"
   ]
  },
  {
   "cell_type": "code",
   "execution_count": 5,
   "metadata": {},
   "outputs": [
    {
     "name": "stdout",
     "output_type": "stream",
     "text": [
      "{\"API Documentation\":\"https://stoplight.io/p/docs/gh/eguide/eguide-consumption-api\",\"Valid endpoints\":\"https://api.eguide.io/v0/prediction\",\"Query Parameters\":[\"aoi(required)\",\"resolution(optional)\",\"summary_only(optional)\"]}"
     ]
    }
   ],
   "source": [
    "!curl --request GET \\\n",
    "  --url \"https://api.eguide.io/v0/\""
   ]
  },
  {
   "cell_type": "code",
   "execution_count": 6,
   "metadata": {},
   "outputs": [
    {
     "name": "stdout",
     "output_type": "stream",
     "text": [
      "{\n",
      "    \"data\": {\n",
      "        \"data_array\": [\n",
      "            {\n",
      "                \"cell_bbox\": \"POLYGON((35.8824639178345 4.06722456781251,35.8847096957719 4.06722456781251,35.8847096957719 4.06497878987503,35.8824639178345 4.06497878987503,35.8824639178345 4.06722456781251))\",\n",
      "                \"cell_data\": {\n",
      "                    \"classA_count\": 5.0,\n",
      "                    \"classB_count\": 0.0\n",
      "                },\n",
      "                \"cell_id\": 879,\n",
      "                \"model_output_id\": 1\n",
      "            }\n",
      "        ],\n",
      "        \"number_of_cells\": 1,\n",
      "        \"resolution\": null,\n",
      "        \"summary_only\": false\n",
      "    },\n",
      "    \"data_summary\": {\n",
      "        \"classA_pooled_prob_mean\": 0.67,\n",
      "        \"classA_pooled_prob_std_dev\": 0.1,\n",
      "        \"classA_total_count\": 5,\n",
      "        \"classB_pooled_prob_mean\": NaN,\n",
      "        \"classB_pooled_prob_std_dev\": NaN,\n",
      "        \"classB_total_count\": 0\n",
      "    },\n",
      "    \"model_metadata\": {\n",
      "        \"description\": \"Model output generated for project Alpha, client Acme\\nIncludes 3 of the 14 requested regions\\nSamples only, not intended for production\\n\",\n",
      "        \"model_output_id\": 1,\n",
      "        \"model_run_date\": \"2020-05-30\",\n",
      "        \"model_version\": \"0.1.1\"\n",
      "    },\n",
      "    \"request\": {\n",
      "        \"AOI_coords\": \"'POINT(35.8843 4.0665)'\",\n",
      "        \"AOI_type\": \"latlong\",\n",
      "        \"other params\": {},\n",
      "        \"requested_resolution\": null,\n",
      "        \"summary_only\": false\n",
      "    }\n",
      "}"
     ]
    }
   ],
   "source": [
    "!curl --request GET \\\n",
    "  --url 'https://api.eguide.io/v0/prediction?aoi=POINT(35.8843%204.0665)' \\\n",
    "  --header \"x-api-key: $eguideapikey\""
   ]
  },
  {
   "cell_type": "markdown",
   "metadata": {},
   "source": [
    "## Using Python (requests)"
   ]
  },
  {
   "cell_type": "code",
   "execution_count": 7,
   "metadata": {},
   "outputs": [],
   "source": [
    "# We will use the requests python library\n",
    "import requests"
   ]
  },
  {
   "cell_type": "code",
   "execution_count": 8,
   "metadata": {},
   "outputs": [
    {
     "name": "stdout",
     "output_type": "stream",
     "text": [
      "{\"API Documentation\":\"https://stoplight.io/p/docs/gh/eguide/eguide-consumption-api\",\"Valid endpoints\":\"https://api.eguide.io/v0/prediction\",\"Query Parameters\":[\"aoi(required)\",\"resolution(optional)\",\"summary_only(optional)\"]}\n"
     ]
    }
   ],
   "source": [
    "# Hello World query and response\n",
    "\n",
    "url = 'https://api.eguide.io/v0'\n",
    "\n",
    "response = requests.get(url)\n",
    "\n",
    "print(response.text)"
   ]
  },
  {
   "cell_type": "code",
   "execution_count": 9,
   "metadata": {},
   "outputs": [
    {
     "name": "stdout",
     "output_type": "stream",
     "text": [
      "{\n",
      "    \"data\": {\n",
      "        \"data_array\": [\n",
      "            {\n",
      "                \"cell_bbox\": \"POLYGON((35.8824639178345 4.06722456781251,35.8847096957719 4.06722456781251,35.8847096957719 4.06497878987503,35.8824639178345 4.06497878987503,35.8824639178345 4.06722456781251))\",\n",
      "                \"cell_data\": {\n",
      "                    \"classA_count\": 5.0,\n",
      "                    \"classB_count\": 0.0\n",
      "                },\n",
      "                \"cell_id\": 879,\n",
      "                \"model_output_id\": 1\n",
      "            }\n",
      "        ],\n",
      "        \"number_of_cells\": 1,\n",
      "        \"resolution\": null,\n",
      "        \"summary_only\": false\n",
      "    },\n",
      "    \"data_summary\": {\n",
      "        \"classA_pooled_prob_mean\": 0.67,\n",
      "        \"classA_pooled_prob_std_dev\": 0.1,\n",
      "        \"classA_total_count\": 5,\n",
      "        \"classB_pooled_prob_mean\": NaN,\n",
      "        \"classB_pooled_prob_std_dev\": NaN,\n",
      "        \"classB_total_count\": 0\n",
      "    },\n",
      "    \"model_metadata\": {\n",
      "        \"description\": \"Model output generated for project Alpha, client Acme\\nIncludes 3 of the 14 requested regions\\nSamples only, not intended for production\\n\",\n",
      "        \"model_output_id\": 1,\n",
      "        \"model_run_date\": \"2020-05-30\",\n",
      "        \"model_version\": \"0.1.1\"\n",
      "    },\n",
      "    \"request\": {\n",
      "        \"AOI_coords\": \"'POINT(35.8843 4.0665)'\",\n",
      "        \"AOI_type\": \"latlong\",\n",
      "        \"other params\": {},\n",
      "        \"requested_resolution\": null,\n",
      "        \"summary_only\": false\n",
      "    }\n",
      "}\n"
     ]
    }
   ],
   "source": [
    "# POINT prediction\n",
    "\n",
    "url = \"https://api.eguide.io/v0/prediction\"\n",
    "\n",
    "querystring = {\"aoi\":\"POINT(35.8843 4.0665)\"}\n",
    "\n",
    "headers = {'x-api-key': eguideapikey}\n",
    "\n",
    "response = requests.request(\"GET\", url, headers=headers, params=querystring)\n",
    "\n",
    "print(response.text)"
   ]
  },
  {
   "cell_type": "code",
   "execution_count": 13,
   "metadata": {},
   "outputs": [
    {
     "name": "stdout",
     "output_type": "stream",
     "text": [
      "{\n",
      "    \"data\": {\n",
      "        \"number_of_cells\": 4,\n",
      "        \"resolution\": null,\n",
      "        \"summary_only\": true\n",
      "    },\n",
      "    \"data_summary\": {\n",
      "        \"classA_pooled_prob_mean\": 0.63,\n",
      "        \"classA_pooled_prob_std_dev\": 0.08,\n",
      "        \"classA_total_count\": 26,\n",
      "        \"classB_pooled_prob_mean\": 0.55,\n",
      "        \"classB_pooled_prob_std_dev\": 0.04,\n",
      "        \"classB_total_count\": 12\n",
      "    },\n",
      "    \"model_metadata\": {\n",
      "        \"description\": \"Model output generated for project Alpha, client Acme\\nIncludes 3 of the 14 requested regions\\nSamples only, not intended for production\\n\",\n",
      "        \"model_output_id\": 1,\n",
      "        \"model_run_date\": \"2020-05-30\",\n",
      "        \"model_version\": \"0.1.1\"\n",
      "    },\n",
      "    \"request\": {\n",
      "        \"AOI_coords\": \"'POLYGON((35.8851 4.0660, 35.8858 4.0644, 35.8831 4.0594, 35.8824 4.0658, 35.8851 4.0660 ))'\",\n",
      "        \"AOI_type\": \"polygon\",\n",
      "        \"other params\": {},\n",
      "        \"requested_resolution\": null,\n",
      "        \"summary_only\": true\n",
      "    }\n",
      "}\n"
     ]
    }
   ],
   "source": [
    "# POLYGON prediction\n",
    "\n",
    "url = \"https://api.eguide.io/v0/prediction\"\n",
    "\n",
    "POLYGON_AOI = 'POLYGON((35.8851 4.0660, 35.8858 4.0644, 35.8831 4.0594, 35.8824 4.0658, 35.8851 4.0660 ))'\n",
    "\n",
    "querystring = {\n",
    "    \"aoi\": POLYGON_AOI,\n",
    "    \"summary_only\": \"True\"\n",
    "}\n",
    "\n",
    "headers = {'x-api-key': eguideapikey}\n",
    "\n",
    "response = requests.request(\"GET\", url, headers=headers, params=querystring)\n",
    "\n",
    "print(response.text)"
   ]
  },
  {
   "cell_type": "code",
   "execution_count": 12,
   "metadata": {},
   "outputs": [
    {
     "name": "stdout",
     "output_type": "stream",
     "text": [
      "..AOI_coords          : 'POLYGON((35.8851 4.0660, 35.8858 4.0644, 35.8831 4.0594, 35.8824 4.0658, 35.8851 4.0660 ))'\n",
      "..AOI_type            : polygon\n",
      "..other params        : {}\n",
      "..requested_resolution: None\n",
      "..summary_only        : False\n",
      "\n",
      "Data Aggregated for the whole Polygon\n",
      "..classA_pooled_prob_mean: 0.63\n",
      "..classA_pooled_prob_std_dev: 0.08\n",
      "..classA_total_count  : 26\n",
      "..classB_pooled_prob_mean: 0.55\n",
      "..classB_pooled_prob_std_dev: 0.04\n",
      "..classB_total_count  : 12\n"
     ]
    }
   ],
   "source": [
    "# let's examine the aggregated data for the whole AOI \n",
    "data_summary = response.json()['data_summary']\n",
    "\n",
    "request_info = response.json()['request']\n",
    "for k, v in request_info.items():\n",
    "    print (f\"..{k:<20}: {v}\")\n",
    "\n",
    "print (\"\\nData Aggregated for the whole Polygon\")\n",
    "for k, v in data_summary.items():\n",
    "    print (f\"..{k:<20}: {v}\")\n",
    "        "
   ]
  },
  {
   "cell_type": "code",
   "execution_count": 14,
   "metadata": {},
   "outputs": [],
   "source": [
    "# POLYGON prediction with cell data included\n",
    "\n",
    "url = \"https://api.eguide.io/v0/prediction\"\n",
    "\n",
    "POLYGON_AOI = 'POLYGON((35.8851 4.0660, 35.8858 4.0644, 35.8831 4.0594, 35.8824 4.0658, 35.8851 4.0660 ))'\n",
    "\n",
    "querystring = {\n",
    "    \"aoi\": POLYGON_AOI,\n",
    "    \"summary_only\": \"False\" # <-- Set to False to include cell level data\n",
    "}\n",
    "\n",
    "headers = {'x-api-key': eguideapikey}\n",
    "\n",
    "response = requests.request(\"GET\", url, headers=headers, params=querystring)   "
   ]
  },
  {
   "cell_type": "code",
   "execution_count": 15,
   "metadata": {},
   "outputs": [
    {
     "name": "stdout",
     "output_type": "stream",
     "text": [
      "\n",
      "Cell id: 879\n",
      ".. classA_count        : 5.0\n",
      ".. classB_count        : 0.0\n",
      "\n",
      "Cell id: 882\n",
      ".. classA_count        : 9.0\n",
      ".. classB_count        : 7.0\n",
      "\n",
      "Cell id: 883\n",
      ".. classA_count        : 2.0\n",
      ".. classB_count        : 1.0\n",
      "\n",
      "Cell id: 886\n",
      ".. classA_count        : 10.0\n",
      ".. classB_count        : 4.0\n"
     ]
    }
   ],
   "source": [
    "# let's examine the data_array\n",
    "data_array = response.json()['data']['data_array']\n",
    "\n",
    "n_cells_to_show = 4\n",
    "for cell in data_array[:n_cells_to_show]:\n",
    "    print(f\"\\nCell id: {cell['cell_id']}\")\n",
    "    \n",
    "    for k, v in cell['cell_data'].items():\n",
    "        print (f\".. {k:<20}: {v}\")"
   ]
  },
  {
   "cell_type": "code",
   "execution_count": 16,
   "metadata": {},
   "outputs": [
    {
     "name": "stdout",
     "output_type": "stream",
     "text": [
      "description         : Model output generated for project Alpha, client Acme\n",
      "Includes 3 of the 14 requested regions\n",
      "Samples only, not intended for production\n",
      "\n",
      "model_output_id     : 1\n",
      "model_run_date      : 2020-05-30\n",
      "model_version       : 0.1.1\n"
     ]
    }
   ],
   "source": [
    "metadata = response.json()['model_metadata']\n",
    "\n",
    "for k,v in metadata.items(): \n",
    "    print (f\"{k:<20}: {v}\")"
   ]
  },
  {
   "cell_type": "markdown",
   "metadata": {},
   "source": [
    "### Using Geopandas and shapely object"
   ]
  },
  {
   "cell_type": "code",
   "execution_count": 30,
   "metadata": {},
   "outputs": [],
   "source": [
    "### util functions\n",
    "\n",
    "# We will use the requests python library\n",
    "import requests\n",
    "\n",
    "def get_data_summary(shapely_obj, apikey, resolution=\"250\")-> list:\n",
    "    \"\"\"Function to return structure counts, uncertainity values for point or polygon shapely object\n",
    "    Example:\n",
    "        from shapely.geometry import Point, Polygon\n",
    "        point = Point(0.0, 0.0) # shapely point object\n",
    "        polygon = Polygon([(0, 0), (1, 1), (1, 0)])  # shapely polygon object\n",
    "\n",
    "    Parameters\n",
    "    ----------\n",
    "    shapely_obj\n",
    "        A shapely object representing a point or polygon\n",
    "    apikey\n",
    "        User's API key.\n",
    "\n",
    "    Returns\n",
    "    -------\n",
    "    List\n",
    "        Returns list of consisting of structure counts and probability {mean, standard deviation} from classes A and B.\n",
    "    \"\"\"\n",
    "    url = \"https://api.eguide.io/v0/prediction\"\n",
    "\n",
    "    lat = shapely_obj.coords[:][0][0]  # latitude coordinate\n",
    "\n",
    "    lon = shapely_obj.coords[:][0][1]  # longitude coordinate\n",
    "\n",
    "    querystring = {\"aoi\":f\"POINT({lat} {lon})\", \"resolution\": resolution} # query parameters\n",
    "\n",
    "    headers = {'x-api-key': apikey} # API Key\n",
    "\n",
    "    response = requests.request(\"GET\", url, headers=headers, params=querystring)\n",
    "    \n",
    "    if (response.ok):\n",
    "        classA_count = response.json()['data_summary']['classA_total_count']\n",
    "        prob_mean_classA = response.json()['data_summary']['classA_pooled_prob_mean']\n",
    "        prob_std_classA = response.json()['data_summary']['classA_pooled_prob_std_dev']\n",
    "        classB_count = response.json()['data_summary']['classB_total_count']\n",
    "        prob_mean_classB = response.json()['data_summary']['classB_pooled_prob_mean']\n",
    "        prob_std_classB = response.json()['data_summary']['classB_pooled_prob_std_dev']\n",
    "        return [classA_count, prob_mean_classA, prob_std_classA, classB_count, prob_mean_classB, prob_std_classB]\n",
    "    else:\n",
    "        # return None when response is empty\n",
    "        return [None, None, None, None, None, None]\n"
   ]
  },
  {
   "cell_type": "code",
   "execution_count": 35,
   "metadata": {},
   "outputs": [
    {
     "data": {
      "text/plain": [
       "[0, nan, nan, 1, 0.65, nan]"
      ]
     },
     "execution_count": 35,
     "metadata": {},
     "output_type": "execute_result"
    }
   ],
   "source": [
    "# Using 'get_data_summary' function on a shapely Point object\n",
    "from shapely.geometry import Point, Polygon\n",
    "p = Point(38.36387, -3.35493)\n",
    "get_data_summary(shapely_obj=p, apikey=eguideapikey)"
   ]
  },
  {
   "cell_type": "code",
   "execution_count": 7,
   "metadata": {},
   "outputs": [],
   "source": [
    "# import multiple polygons or points from a file to geopandas dataframe\n",
    "import geopandas as gpd # We will use the geopandas python library\n",
    "path = 'path/to/file' # path to file with multiple polygon or point coordinates\n",
    "dataframe = gpd.read_file(path)"
   ]
  },
  {
   "cell_type": "code",
   "execution_count": 26,
   "metadata": {},
   "outputs": [
    {
     "name": "stdout",
     "output_type": "stream",
     "text": [
      "CPU times: user 166 ms, sys: 21.1 ms, total: 187 ms\n",
      "Wall time: 5.4 s\n"
     ]
    }
   ],
   "source": [
    "%%time\n",
    "# Apply 'get_data_summary' function to dataframe\n",
    "dataframe[['classA_count','prob_mean_A','prob_std_A',\n",
    "           'classB_count','prob_mean_B','prob_std_B']] = dataframe.apply(lambda x: \n",
    "                                                                         get_data_summary(x[\"geometry\"]), \n",
    "                                                                         axis=1, result_type='expand')\n"
   ]
  },
  {
   "cell_type": "markdown",
   "metadata": {},
   "source": [
    "### environment information"
   ]
  },
  {
   "cell_type": "code",
   "execution_count": 17,
   "metadata": {},
   "outputs": [
    {
     "name": "stdout",
     "output_type": "stream",
     "text": [
      "Python 3.7.4\n"
     ]
    }
   ],
   "source": [
    "!python --version"
   ]
  },
  {
   "cell_type": "code",
   "execution_count": 18,
   "metadata": {},
   "outputs": [
    {
     "data": {
      "text/plain": [
       "'2.22.0'"
      ]
     },
     "execution_count": 18,
     "metadata": {},
     "output_type": "execute_result"
    }
   ],
   "source": [
    "requests.__version__"
   ]
  },
  {
   "cell_type": "code",
   "execution_count": null,
   "metadata": {},
   "outputs": [],
   "source": []
  }
 ],
 "metadata": {
  "kernelspec": {
   "display_name": "Python 3",
   "language": "python",
   "name": "python3"
  },
  "language_info": {
   "codemirror_mode": {
    "name": "ipython",
    "version": 3
   },
   "file_extension": ".py",
   "mimetype": "text/x-python",
   "name": "python",
   "nbconvert_exporter": "python",
   "pygments_lexer": "ipython3",
   "version": "3.7.4"
  }
 },
 "nbformat": 4,
 "nbformat_minor": 4
}
